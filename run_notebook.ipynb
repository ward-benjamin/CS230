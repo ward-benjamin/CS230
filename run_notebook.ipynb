{
 "cells": [
  {
   "cell_type": "markdown",
   "metadata": {},
   "source": [
    "# Deep Learning Project Notebook"
   ]
  },
  {
   "cell_type": "markdown",
   "metadata": {},
   "source": [
    "### Import modulde"
   ]
  },
  {
   "cell_type": "code",
   "execution_count": 1,
   "metadata": {},
   "outputs": [
    {
     "name": "stderr",
     "output_type": "stream",
     "text": [
      "C:\\Users\\coren\\AppData\\Local\\Temp\\ipykernel_20424\\4247462051.py:1: DeprecationWarning: \n",
      "Pyarrow will become a required dependency of pandas in the next major release of pandas (pandas 3.0),\n",
      "(to allow more performant data types, such as the Arrow string type, and better interoperability with other libraries)\n",
      "but was not found to be installed on your system.\n",
      "If this would cause problems for you,\n",
      "please provide us feedback at https://github.com/pandas-dev/pandas/issues/54466\n",
      "        \n",
      "  import pandas as pd\n"
     ]
    }
   ],
   "source": [
    "import pandas as pd\n",
    "import numpy as np\n",
    "import matplotlib.pyplot as plt\n",
    "from src import download_data,model,train,evaluate,preprocessed,loss\n",
    "import importlib\n",
    "import tensorflow as tf\n",
    "\n"
   ]
  },
  {
   "cell_type": "code",
   "execution_count": 55,
   "metadata": {},
   "outputs": [
    {
     "data": {
      "text/plain": [
       "<module 'src.loss' from 'c:\\\\Users\\\\coren\\\\Projet Deep Learning\\\\CS230\\\\src\\\\loss.py'>"
      ]
     },
     "execution_count": 55,
     "metadata": {},
     "output_type": "execute_result"
    }
   ],
   "source": [
    "importlib.reload(download_data)\n",
    "importlib.reload(model)\n",
    "importlib.reload(train)\n",
    "importlib.reload(evaluate)\n",
    "importlib.reload(preprocessed)\n",
    "importlib.reload(loss)"
   ]
  },
  {
   "cell_type": "markdown",
   "metadata": {},
   "source": [
    "### Download_data"
   ]
  },
  {
   "cell_type": "code",
   "execution_count": 3,
   "metadata": {},
   "outputs": [],
   "source": [
    "download_data.download_data()"
   ]
  },
  {
   "cell_type": "markdown",
   "metadata": {},
   "source": [
    "### Process data"
   ]
  },
  {
   "cell_type": "code",
   "execution_count": 4,
   "metadata": {},
   "outputs": [],
   "source": [
    "num_input = preprocessed.preprocess_data_features()\n",
    "temp,dev = preprocessed.split_dataset_dev()"
   ]
  },
  {
   "cell_type": "markdown",
   "metadata": {},
   "source": [
    "## Declare Model"
   ]
  },
  {
   "cell_type": "markdown",
   "metadata": {},
   "source": [
    "### Model 1 : one layer model"
   ]
  },
  {
   "cell_type": "code",
   "execution_count": 29,
   "metadata": {},
   "outputs": [],
   "source": [
    "layers = []\n",
    "input_num = num_input\n",
    "batch_size = 1024\n",
    "epoch = 10\n",
    "learning_rate = 0.001"
   ]
  },
  {
   "cell_type": "code",
   "execution_count": 30,
   "metadata": {},
   "outputs": [
    {
     "name": "stdout",
     "output_type": "stream",
     "text": [
      "Epoch 1/10\n"
     ]
    },
    {
     "name": "stdout",
     "output_type": "stream",
     "text": [
      "\u001b[1m224/224\u001b[0m \u001b[32m━━━━━━━━━━━━━━━━━━━━\u001b[0m\u001b[37m\u001b[0m \u001b[1m1s\u001b[0m 2ms/step - accuracy: 0.7743 - loss: 0.5228 - val_accuracy: 0.8529 - val_loss: 0.3831\n",
      "Epoch 2/10\n",
      "\u001b[1m224/224\u001b[0m \u001b[32m━━━━━━━━━━━━━━━━━━━━\u001b[0m\u001b[37m\u001b[0m \u001b[1m0s\u001b[0m 2ms/step - accuracy: 0.8517 - loss: 0.3817 - val_accuracy: 0.8575 - val_loss: 0.3664\n",
      "Epoch 3/10\n",
      "\u001b[1m224/224\u001b[0m \u001b[32m━━━━━━━━━━━━━━━━━━━━\u001b[0m\u001b[37m\u001b[0m \u001b[1m0s\u001b[0m 2ms/step - accuracy: 0.8562 - loss: 0.3657 - val_accuracy: 0.8598 - val_loss: 0.3570\n",
      "Epoch 4/10\n",
      "\u001b[1m224/224\u001b[0m \u001b[32m━━━━━━━━━━━━━━━━━━━━\u001b[0m\u001b[37m\u001b[0m \u001b[1m0s\u001b[0m 2ms/step - accuracy: 0.8578 - loss: 0.3571 - val_accuracy: 0.8612 - val_loss: 0.3517\n",
      "Epoch 5/10\n",
      "\u001b[1m224/224\u001b[0m \u001b[32m━━━━━━━━━━━━━━━━━━━━\u001b[0m\u001b[37m\u001b[0m \u001b[1m0s\u001b[0m 2ms/step - accuracy: 0.8587 - loss: 0.3518 - val_accuracy: 0.8612 - val_loss: 0.3482\n",
      "Epoch 6/10\n",
      "\u001b[1m224/224\u001b[0m \u001b[32m━━━━━━━━━━━━━━━━━━━━\u001b[0m\u001b[37m\u001b[0m \u001b[1m1s\u001b[0m 2ms/step - accuracy: 0.8590 - loss: 0.3484 - val_accuracy: 0.8611 - val_loss: 0.3457\n",
      "Epoch 7/10\n",
      "\u001b[1m224/224\u001b[0m \u001b[32m━━━━━━━━━━━━━━━━━━━━\u001b[0m\u001b[37m\u001b[0m \u001b[1m0s\u001b[0m 2ms/step - accuracy: 0.8591 - loss: 0.3460 - val_accuracy: 0.8609 - val_loss: 0.3437\n",
      "Epoch 8/10\n",
      "\u001b[1m224/224\u001b[0m \u001b[32m━━━━━━━━━━━━━━━━━━━━\u001b[0m\u001b[37m\u001b[0m \u001b[1m0s\u001b[0m 2ms/step - accuracy: 0.8592 - loss: 0.3442 - val_accuracy: 0.8607 - val_loss: 0.3423\n",
      "Epoch 9/10\n",
      "\u001b[1m224/224\u001b[0m \u001b[32m━━━━━━━━━━━━━━━━━━━━\u001b[0m\u001b[37m\u001b[0m \u001b[1m0s\u001b[0m 2ms/step - accuracy: 0.8591 - loss: 0.3428 - val_accuracy: 0.8604 - val_loss: 0.3411\n",
      "Epoch 10/10\n",
      "\u001b[1m224/224\u001b[0m \u001b[32m━━━━━━━━━━━━━━━━━━━━\u001b[0m\u001b[37m\u001b[0m \u001b[1m0s\u001b[0m 2ms/step - accuracy: 0.8593 - loss: 0.3414 - val_accuracy: 0.8605 - val_loss: 0.3401\n",
      "Accuracy: 0.8605\n",
      "F1 Score: 0.1828\n"
     ]
    },
    {
     "data": {
      "image/png": "[encoded data removed]",
      "text/plain": [
       "<Figure size 600x500 with 1 Axes>"
      ]
     },
     "metadata": {},
     "output_type": "display_data"
    },
    {
     "data": {
      "text/plain": [
       "{'accuracy': 0.8604979253112033,\n",
       " 'f1_score': 0.18279047156052503,\n",
       " 'false_positive': 214.0,\n",
       " 'false_negative': 1467.0}"
      ]
     },
     "execution_count": 30,
     "metadata": {},
     "output_type": "execute_result"
    }
   ],
   "source": [
    "lr_schedule = tf.keras.optimizers.schedules.ExponentialDecay(\n",
    "    initial_learning_rate=0.001,\n",
    "    decay_steps=100000,\n",
    "    decay_rate=0.96,\n",
    "    staircase=True)\n",
    "model_one_layer = model.create_sequential_model(input_num,hidden_layers=layers,dropout_rates=0.1)\n",
    "criterion = loss.WeightedBCELoss(w1 = 5.0, w2 = 1.0)\n",
    "optimizer_adam = tf.keras.optimizers.Adam(learning_rate=learning_rate)\n",
    "optimizer_sgd = tf.keras.optimizers.SGD(learning_rate=learning_rate)\n",
    "\n",
    "\n",
    "history,test_data = train.train_model(temp,model_one_layer,criterion,optimizer_adam,epoch,batch_size=batch_size)\n",
    "\n",
    "evaluate.evaluate_model(model_one_layer,test_data)"
   ]
  },
  {
   "cell_type": "markdown",
   "metadata": {},
   "source": [
    "### Model 2 : MLP"
   ]
  },
  {
   "cell_type": "code",
   "execution_count": 6,
   "metadata": {},
   "outputs": [
    {
     "name": "stdout",
     "output_type": "stream",
     "text": [
      "Epoch [1/100], Loss: 0.7955\n",
      "Epoch [2/100], Loss: 0.7967\n",
      "Epoch [3/100], Loss: 0.7959\n",
      "Epoch [4/100], Loss: 0.7961\n",
      "Epoch [5/100], Loss: 0.7951\n",
      "Epoch [6/100], Loss: 0.7955\n",
      "Epoch [7/100], Loss: 0.7957\n",
      "Epoch [8/100], Loss: 0.7951\n",
      "Epoch [9/100], Loss: 0.7948\n",
      "Epoch [10/100], Loss: 0.7953\n",
      "Epoch [11/100], Loss: 0.7951\n",
      "Epoch [12/100], Loss: 0.7945\n",
      "Epoch [13/100], Loss: 0.7957\n",
      "Epoch [14/100], Loss: 0.7941\n",
      "Epoch [15/100], Loss: 0.7943\n",
      "Epoch [16/100], Loss: 0.7946\n",
      "Epoch [17/100], Loss: 0.7951\n",
      "Epoch [18/100], Loss: 0.7943\n",
      "Epoch [19/100], Loss: 0.7940\n",
      "Epoch [20/100], Loss: 0.7941\n",
      "Epoch [21/100], Loss: 0.7939\n",
      "Epoch [22/100], Loss: 0.7946\n",
      "Epoch [23/100], Loss: 0.7945\n",
      "Epoch [24/100], Loss: 0.7937\n",
      "Epoch [25/100], Loss: 0.7940\n",
      "Epoch [26/100], Loss: 0.7947\n",
      "Epoch [27/100], Loss: 0.7931\n",
      "Epoch [28/100], Loss: 0.7933\n",
      "Epoch [29/100], Loss: 0.7924\n",
      "Epoch [30/100], Loss: 0.7934\n",
      "Epoch [31/100], Loss: 0.7933\n",
      "Epoch [32/100], Loss: 0.7931\n",
      "Epoch [33/100], Loss: 0.7929\n",
      "Epoch [34/100], Loss: 0.7932\n",
      "Epoch [35/100], Loss: 0.7931\n",
      "Epoch [36/100], Loss: 0.7925\n",
      "Epoch [37/100], Loss: 0.7930\n",
      "Epoch [38/100], Loss: 0.7934\n",
      "Epoch [39/100], Loss: 0.7920\n",
      "Epoch [40/100], Loss: 0.7918\n",
      "Epoch [41/100], Loss: 0.7923\n",
      "Epoch [42/100], Loss: 0.7928\n",
      "Epoch [43/100], Loss: 0.7917\n",
      "Epoch [44/100], Loss: 0.7919\n",
      "Epoch [45/100], Loss: 0.7925\n",
      "Epoch [46/100], Loss: 0.7919\n",
      "Epoch [47/100], Loss: 0.7928\n",
      "Epoch [48/100], Loss: 0.7911\n",
      "Epoch [49/100], Loss: 0.7918\n",
      "Epoch [50/100], Loss: 0.7919\n",
      "Epoch [51/100], Loss: 0.7922\n",
      "Epoch [52/100], Loss: 0.7913\n",
      "Epoch [53/100], Loss: 0.7913\n",
      "Epoch [54/100], Loss: 0.7912\n",
      "Epoch [55/100], Loss: 0.7916\n",
      "Epoch [56/100], Loss: 0.7915\n",
      "Epoch [57/100], Loss: 0.7910\n",
      "Epoch [58/100], Loss: 0.7914\n",
      "Epoch [59/100], Loss: 0.7917\n",
      "Epoch [60/100], Loss: 0.7902\n",
      "Epoch [61/100], Loss: 0.7905\n",
      "Epoch [62/100], Loss: 0.7906\n",
      "Epoch [63/100], Loss: 0.7901\n",
      "Epoch [64/100], Loss: 0.7902\n",
      "Epoch [65/100], Loss: 0.7900\n",
      "Epoch [66/100], Loss: 0.7904\n",
      "Epoch [67/100], Loss: 0.7896\n",
      "Epoch [68/100], Loss: 0.7906\n",
      "Epoch [69/100], Loss: 0.7898\n",
      "Epoch [70/100], Loss: 0.7901\n",
      "Epoch [71/100], Loss: 0.7905\n",
      "Epoch [72/100], Loss: 0.7899\n",
      "Epoch [73/100], Loss: 0.7902\n",
      "Epoch [74/100], Loss: 0.7899\n",
      "Epoch [75/100], Loss: 0.7896\n",
      "Epoch [76/100], Loss: 0.7899\n",
      "Epoch [77/100], Loss: 0.7888\n",
      "Epoch [78/100], Loss: 0.7897\n",
      "Epoch [79/100], Loss: 0.7889\n",
      "Epoch [80/100], Loss: 0.7894\n",
      "Epoch [81/100], Loss: 0.7894\n",
      "Epoch [82/100], Loss: 0.7896\n",
      "Epoch [83/100], Loss: 0.7889\n",
      "Epoch [84/100], Loss: 0.7887\n",
      "Epoch [85/100], Loss: 0.7887\n",
      "Epoch [86/100], Loss: 0.7895\n",
      "Epoch [87/100], Loss: 0.7891\n",
      "Epoch [88/100], Loss: 0.7887\n",
      "Epoch [89/100], Loss: 0.7892\n",
      "Epoch [90/100], Loss: 0.7886\n",
      "Epoch [91/100], Loss: 0.7880\n",
      "Epoch [92/100], Loss: 0.7883\n",
      "Epoch [93/100], Loss: 0.7885\n",
      "Epoch [94/100], Loss: 0.7878\n",
      "Epoch [95/100], Loss: 0.7888\n",
      "Epoch [96/100], Loss: 0.7884\n",
      "Epoch [97/100], Loss: 0.7884\n",
      "Epoch [98/100], Loss: 0.7880\n",
      "Epoch [99/100], Loss: 0.7882\n",
      "Epoch [100/100], Loss: 0.7881\n",
      "Accuracy: 0.7490\n",
      "F1 Score: 0.4543\n"
     ]
    },
    {
     "data": {
      "image/png": "[encoded data removed]",
      "text/plain": [
       "<Figure size 640x480 with 1 Axes>"
      ]
     },
     "metadata": {},
     "output_type": "display_data"
    },
    {
     "data": {
      "image/png": "[encoded data removed]",
      "text/plain": [
       "<Figure size 600x500 with 1 Axes>"
      ]
     },
     "metadata": {},
     "output_type": "display_data"
    },
    {
     "data": {
      "text/plain": [
       "{'accuracy': 0.749045643153527,\n",
       " 'f1_score': 0.4543486106098881,\n",
       " 'false_positive': 2545,\n",
       " 'false_negative': 479}"
      ]
     },
     "execution_count": 6,
     "metadata": {},
     "output_type": "execute_result"
    }
   ],
   "source": [
    "hidden_layers = [200,200,70]\n",
    "model_mlp = model.create_sequential_model(num_input,hidden_layers,dropout_rates=0.2)\n",
    "criterion = loss.WeightedBCELoss(w1 = 5.0, w2 = 1.0)\n",
    "optimizer = optim.Adam(model_one_layer.parameters(), lr=0.0001,betas= (0.9,0.99))\n",
    "\n",
    "train_losses,test_data = train.train_model(temp,model_one_layer,criterion,optimizer,100,batch_size=1024)\n",
    "plt.plot(train_losses)\n",
    "\n",
    "evaluate.evaluate_model(model_one_layer,test_data)"
   ]
  },
  {
   "cell_type": "markdown",
   "metadata": {},
   "source": [
    "## Download Dataset kaggle"
   ]
  },
  {
   "cell_type": "code",
   "execution_count": 31,
   "metadata": {},
   "outputs": [],
   "source": [
    "df_raw = pd.read_csv(\"C:/Users/coren/Projet Deep Learning/CS230/local/data/raw/df_2011\")"
   ]
  },
  {
   "cell_type": "markdown",
   "metadata": {},
   "source": [
    "### Process dataset"
   ]
  },
  {
   "cell_type": "code",
   "execution_count": 32,
   "metadata": {},
   "outputs": [],
   "source": [
    "from src import process_oversampling,process_datasets,process_datasets_v2"
   ]
  },
  {
   "cell_type": "code",
   "execution_count": 33,
   "metadata": {},
   "outputs": [
    {
     "data": {
      "text/plain": [
       "<module 'src.process_datasets_v2' from 'c:\\\\Users\\\\coren\\\\Projet Deep Learning\\\\CS230\\\\src\\\\process_datasets_v2.py'>"
      ]
     },
     "execution_count": 33,
     "metadata": {},
     "output_type": "execute_result"
    }
   ],
   "source": [
    "importlib.reload(process_datasets)\n",
    "importlib.reload(process_oversampling)\n",
    "importlib.reload(process_datasets_v2)"
   ]
  },
  {
   "cell_type": "code",
   "execution_count": 34,
   "metadata": {},
   "outputs": [],
   "source": [
    "temp_2011_1 = process_datasets_v2.process_dataset(df_raw)\n",
    "temp_2011_2 = process_oversampling.process_part_2(temp_2011_1)\n",
    "temp_2011,dev_2011 = process_oversampling.undersample_train_test_NM(temp_2011_1)"
   ]
  },
  {
   "cell_type": "code",
   "execution_count": 35,
   "metadata": {},
   "outputs": [],
   "source": [
    "layers = [40]\n",
    "input_num = 2\n",
    "batch_size = 1024\n",
    "epoch = 10\n",
    "learning_rate = 0.001"
   ]
  },
  {
   "cell_type": "code",
   "execution_count": 56,
   "metadata": {},
   "outputs": [
    {
     "ename": "ValueError",
     "evalue": "too many values to unpack (expected 2)",
     "output_type": "error",
     "traceback": [
      "\u001b[1;31m---------------------------------------------------------------------------\u001b[0m",
      "\u001b[1;31mValueError\u001b[0m                                Traceback (most recent call last)",
      "Cell \u001b[1;32mIn[56], line 12\u001b[0m\n\u001b[0;32m      8\u001b[0m optimizer_adam \u001b[38;5;241m=\u001b[39m tf\u001b[38;5;241m.\u001b[39mkeras\u001b[38;5;241m.\u001b[39moptimizers\u001b[38;5;241m.\u001b[39mAdam(learning_rate\u001b[38;5;241m=\u001b[39mlearning_rate)\n\u001b[0;32m      9\u001b[0m optimizer_sgd \u001b[38;5;241m=\u001b[39m tf\u001b[38;5;241m.\u001b[39mkeras\u001b[38;5;241m.\u001b[39moptimizers\u001b[38;5;241m.\u001b[39mSGD(learning_rate\u001b[38;5;241m=\u001b[39mlearning_rate)\n\u001b[1;32m---> 12\u001b[0m history,test_data \u001b[38;5;241m=\u001b[39m \u001b[43mtrain\u001b[49m\u001b[38;5;241;43m.\u001b[39;49m\u001b[43mtrain_model\u001b[49m\u001b[43m(\u001b[49m\u001b[43mtemp_2011\u001b[49m\u001b[43m,\u001b[49m\u001b[43mmodel_2011\u001b[49m\u001b[43m,\u001b[49m\u001b[43mcriterion\u001b[49m\u001b[43m,\u001b[49m\u001b[43moptimizer_adam\u001b[49m\u001b[43m,\u001b[49m\u001b[43mepoch\u001b[49m\u001b[43m,\u001b[49m\u001b[43mbatch_size\u001b[49m\u001b[38;5;241;43m=\u001b[39;49m\u001b[43mbatch_size\u001b[49m\u001b[43m)\u001b[49m\n\u001b[0;32m     14\u001b[0m evaluate\u001b[38;5;241m.\u001b[39mevaluate_model(model_2011,test_data)\n",
      "File \u001b[1;32mc:\\Users\\coren\\Projet Deep Learning\\CS230\\src\\train.py:12\u001b[0m, in \u001b[0;36mtrain_model\u001b[1;34m(dataset, model, loss_fn, optimizer, num_epochs, batch_size, test_ratio)\u001b[0m\n\u001b[0;32m      9\u001b[0m dataset \u001b[38;5;241m=\u001b[39m dataset\u001b[38;5;241m.\u001b[39mshuffle(buffer_size\u001b[38;5;241m=\u001b[39m\u001b[38;5;241m1000\u001b[39m, reshuffle_each_iteration\u001b[38;5;241m=\u001b[39m\u001b[38;5;28;01mTrue\u001b[39;00m)\n\u001b[0;32m     11\u001b[0m \u001b[38;5;66;03m#start\u001b[39;00m\n\u001b[1;32m---> 12\u001b[0m dev_features,dev_target \u001b[38;5;241m=\u001b[39m dataset\n\u001b[0;32m     13\u001b[0m dev_features \u001b[38;5;241m=\u001b[39m np\u001b[38;5;241m.\u001b[39marray(dev_features)\n\u001b[0;32m     14\u001b[0m \u001b[38;5;28mprint\u001b[39m(np\u001b[38;5;241m.\u001b[39mall(dev_features[:, \u001b[38;5;241m0\u001b[39m] \u001b[38;5;241m==\u001b[39m \u001b[38;5;241m1\u001b[39m))\n",
      "\u001b[1;31mValueError\u001b[0m: too many values to unpack (expected 2)"
     ]
    }
   ],
   "source": [
    "lr_schedule = tf.keras.optimizers.schedules.ExponentialDecay(\n",
    "    initial_learning_rate=0.001,\n",
    "    decay_steps=100000,\n",
    "    decay_rate=0.96,\n",
    "    staircase=True)\n",
    "model_2011 = model.create_sequential_model(input_num,hidden_layers=layers,dropout_rates=0.1)\n",
    "criterion = loss.WeightedBCELoss(w1 = 5.0, w2 = 1.0)\n",
    "optimizer_adam = tf.keras.optimizers.Adam(learning_rate=learning_rate)\n",
    "optimizer_sgd = tf.keras.optimizers.SGD(learning_rate=learning_rate)\n",
    "\n",
    "\n",
    "history,test_data = train.train_model(temp_2011,model_2011,criterion,optimizer_adam,epoch,batch_size=batch_size)\n",
    "\n",
    "evaluate.evaluate_model(model_2011,test_data)"
   ]
  },
  {
   "cell_type": "code",
   "execution_count": 40,
   "metadata": {},
   "outputs": [
    {
     "name": "stdout",
     "output_type": "stream",
     "text": [
      "<_SkipDataset element_spec=(TensorSpec(shape=(2,), dtype=tf.float32, name=None), TensorSpec(shape=(), dtype=tf.int64, name=None))>\n"
     ]
    }
   ],
   "source": [
    "print(test_data)"
   ]
  }
 ],
 "metadata": {
  "kernelspec": {
   "display_name": "Python 3",
   "language": "python",
   "name": "python3"
  },
  "language_info": {
   "codemirror_mode": {
    "name": "ipython",
    "version": 3
   },
   "file_extension": ".py",
   "mimetype": "text/x-python",
   "name": "python",
   "nbconvert_exporter": "python",
   "pygments_lexer": "ipython3",
   "version": "3.12.2"
  }
 },
 "nbformat": 4,
 "nbformat_minor": 2
}
